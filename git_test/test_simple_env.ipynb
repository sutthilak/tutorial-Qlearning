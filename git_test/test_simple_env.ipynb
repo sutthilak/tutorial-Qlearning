{
 "cells": [
  {
   "cell_type": "code",
   "execution_count": 83,
   "id": "8514f0c7",
   "metadata": {},
   "outputs": [],
   "source": [
    "import gym\n",
    "import random\n",
    "import numpy as np\n",
    "from gym import Env\n",
    "from gym.spaces import Discrete,Box,MultiDiscrete,Tuple\n",
    "import random\n",
    "import time\n",
    "\n",
    "import matplotlib.pyplot as plt"
   ]
  },
  {
   "cell_type": "code",
   "execution_count": 128,
   "id": "7a78fcb2",
   "metadata": {},
   "outputs": [],
   "source": [
    "class microgrid(Env):\n",
    "    \n",
    "    \n",
    "    def __init__(self):\n",
    "        \n",
    "        self.D = [800, 850, 880, 900, 860, 930, 950] \n",
    "            #gen_n=[p_low, p_high, a, b, c, p_r]\n",
    "        self.gen_1  =[200, 600, 0.002, 10, 500, 50]\n",
    "        self.gen_2 = [100, 400, 0.0025, 8, 300, 50]\n",
    "        self.gen_3 = [100, 300, 0.0050, 6, 100, 50]\n",
    "        self.gen_4 = [50, 200, 0.0060,  5, 90, 50]\n",
    "        \n",
    "        \n",
    "        self.action_space = MultiDiscrete([400,300,200,150])\n",
    "        #self.action_space= Discrete(5)\n",
    "        self.observation_space= Discrete(5)\n",
    "        #self.observation_space = MultiDiscrete([400,300,200,150])\n",
    "        self.state_length = len(self.D)\n",
    "        \n",
    "        self.index=0\n",
    "        \n",
    "        \n",
    "    def step(self, action):\n",
    "        \n",
    "\n",
    "        self.power_supply = 800  \n",
    "        #self.power_supply = sum(action)\n",
    "        self.state = action\n",
    "        self.power_demand = self.D[self.index]\n",
    "        self.index +=1\n",
    "        \n",
    "        \n",
    "        if self.power_supply == self.power_demand:\n",
    "            reward = 1\n",
    "            \n",
    "        else:\n",
    "            reward =-1\n",
    "        \n",
    "        # optional information \n",
    "        info = {}\n",
    "        \n",
    "        self.state_length -=1\n",
    "        if self.state_length ==0:\n",
    "            done = True\n",
    "        else:\n",
    "            done = False\n",
    "            \n",
    "        return self.state, reward, done, info \n",
    "    \n",
    "    def render(self):\n",
    "        \n",
    "        pass\n",
    "    def reset(self):\n",
    "        # reset the i\n",
    "        self.index=0\n",
    "        self.state_length = len(self.D)\n",
    "\n",
    "    "
   ]
  },
  {
   "cell_type": "code",
   "execution_count": 81,
   "id": "70e029a9",
   "metadata": {},
   "outputs": [
    {
     "data": {
      "text/plain": [
       "\"env=microgrid()\\ndone = False\\nimport warnings\\nwarnings.filterwarnings('ignore')\\n\\nwhile not done:\\n    action= 100,0,0,0\\n    new_state,reward,done, info= env.step(action)\\n    print(env.power_demand)\\naction = env.action_space.sample()\\nprint(action)    \\nprint(action+[1,1,50,10])\\nprint(env.gen_1[1])\\nprint(type(env.action_space.nvec))\\nq_table= np.zeros((5,5))\\nprint(q_table)\""
      ]
     },
     "execution_count": 81,
     "metadata": {},
     "output_type": "execute_result"
    }
   ],
   "source": [
    "'''env=microgrid()\n",
    "done = False\n",
    "import warnings\n",
    "warnings.filterwarnings('ignore')\n",
    "\n",
    "while not done:\n",
    "    action= 100,0,0,0\n",
    "    new_state,reward,done, info= env.step(action)\n",
    "    print(env.power_demand)\n",
    "action = env.action_space.sample()\n",
    "print(action)    \n",
    "print(action+[1,1,50,10])\n",
    "print(env.gen_1[1])\n",
    "print(type(env.action_space.nvec))\n",
    "q_table= np.zeros((5,5))\n",
    "print(q_table) '''"
   ]
  },
  {
   "cell_type": "code",
   "execution_count": 162,
   "id": "98a2c0b0",
   "metadata": {},
   "outputs": [],
   "source": [
    "env=microgrid()\n",
    "\n",
    "cost = set() \n",
    "def get_feasible_action(action,damand):\n",
    "    sum = 0\n",
    "    for i in action :\n",
    "        sum += i\n",
    "    if sum == damand:\n",
    "        return True\n",
    "    else:\n",
    "        return False\n",
    "\n",
    "def get_cost(action):\n",
    "    cost=((2**env.gen_1[2])*action[0]+ env.gen_1[3]*action[0]+ env.gen_1[4]) +  \\\n",
    "         ((2**env.gen_2[2])*action[1]+ env.gen_2[3]*action[1]+ env.gen_2[4]) + \\\n",
    "         ((2**env.gen_3[2])*action[2]+ env.gen_3[3]*action[2]+ env.gen_3[4])+  \\\n",
    "         ((2**env.gen_4[2])*action[3]+ env.gen_4[3]*action[3]+ env.gen_4[4])\n",
    "    return cost\n",
    "\n",
    "temp={}\n",
    "ep =100000\n",
    "for n in range(ep):\n",
    "    action = env.action_space.sample()+ [200,100,100,50]\n",
    "    feasible = get_feasible_action(action,800)\n",
    "    if feasible:\n",
    "        c= get_cost(action)\n",
    "        cost.add(c)\n",
    "        temp[str(c)]=str(action)\n",
    "        \n",
    "\n",
    "\n"
   ]
  },
  {
   "cell_type": "code",
   "execution_count": 165,
   "id": "05531f1a",
   "metadata": {},
   "outputs": [
    {
     "name": "stdout",
     "output_type": "stream",
     "text": [
      "[202 101 298 199]\n"
     ]
    }
   ],
   "source": [
    "min_cost = min(cost)\n",
    "\n",
    "print(temp[str(min_cost)])"
   ]
  },
  {
   "cell_type": "code",
   "execution_count": 166,
   "id": "a274507e",
   "metadata": {},
   "outputs": [
    {
     "name": "stdout",
     "output_type": "stream",
     "text": [
      "7403.3193192077815\n"
     ]
    }
   ],
   "source": [
    "print(min(cost))"
   ]
  },
  {
   "cell_type": "code",
   "execution_count": 145,
   "id": "bacf64f0",
   "metadata": {},
   "outputs": [
    {
     "ename": "IndexError",
     "evalue": "index 252 is out of bounds for axis 0 with size 5",
     "output_type": "error",
     "traceback": [
      "\u001b[1;31m---------------------------------------------------------------------------\u001b[0m",
      "\u001b[1;31mIndexError\u001b[0m                                Traceback (most recent call last)",
      "\u001b[1;32m<ipython-input-145-e4cad8da3809>\u001b[0m in \u001b[0;36m<module>\u001b[1;34m\u001b[0m\n\u001b[0;32m     41\u001b[0m \u001b[1;33m\u001b[0m\u001b[0m\n\u001b[0;32m     42\u001b[0m         \u001b[1;31m# Update Q-table for Q(s,a)\u001b[0m\u001b[1;33m\u001b[0m\u001b[1;33m\u001b[0m\u001b[1;33m\u001b[0m\u001b[0m\n\u001b[1;32m---> 43\u001b[1;33m         \u001b[0mq_table\u001b[0m\u001b[1;33m[\u001b[0m\u001b[0mstate\u001b[0m\u001b[1;33m,\u001b[0m\u001b[0maction\u001b[0m\u001b[1;33m]\u001b[0m \u001b[1;33m=\u001b[0m \u001b[0mq_table\u001b[0m\u001b[1;33m[\u001b[0m\u001b[0mstate\u001b[0m\u001b[1;33m,\u001b[0m\u001b[0maction\u001b[0m\u001b[1;33m]\u001b[0m \u001b[1;33m*\u001b[0m \u001b[1;33m(\u001b[0m\u001b[1;36m1\u001b[0m\u001b[1;33m-\u001b[0m \u001b[0mlearning_rate\u001b[0m\u001b[1;33m)\u001b[0m\u001b[1;33m+\u001b[0m\u001b[0;31m \u001b[0m\u001b[0;31m\\\u001b[0m\u001b[1;33m\u001b[0m\u001b[1;33m\u001b[0m\u001b[0m\n\u001b[0m\u001b[0;32m     44\u001b[0m                                 \u001b[0mlearning_rate\u001b[0m \u001b[1;33m*\u001b[0m \u001b[1;33m(\u001b[0m\u001b[0mreward\u001b[0m \u001b[1;33m+\u001b[0m \u001b[0mdiscount_rate\u001b[0m \u001b[1;33m*\u001b[0m\u001b[0mnp\u001b[0m\u001b[1;33m.\u001b[0m\u001b[0mmax\u001b[0m\u001b[1;33m(\u001b[0m\u001b[0mq_table\u001b[0m\u001b[1;33m[\u001b[0m\u001b[0mnew_state\u001b[0m\u001b[1;33m,\u001b[0m \u001b[1;33m:\u001b[0m\u001b[1;33m]\u001b[0m\u001b[1;33m)\u001b[0m\u001b[1;33m)\u001b[0m\u001b[1;33m\u001b[0m\u001b[1;33m\u001b[0m\u001b[0m\n\u001b[0;32m     45\u001b[0m         \u001b[0mstate\u001b[0m \u001b[1;33m=\u001b[0m\u001b[0mnew_state\u001b[0m\u001b[1;33m\u001b[0m\u001b[1;33m\u001b[0m\u001b[0m\n",
      "\u001b[1;31mIndexError\u001b[0m: index 252 is out of bounds for axis 0 with size 5"
     ]
    }
   ],
   "source": [
    "env=microgrid()\n",
    "\n",
    "q_table= np.zeros((5,5))\n",
    "\n",
    "\n",
    "def get_cost(action):\n",
    "    cost=((2**env.gen_1[2])*action[0]+ env.gen_1[3]*env.action[0]+ env.gen_1[4]) +  \\\n",
    "         ((2**env.gen_2[2])*action[0]+ env.gen_2[3]*env.action[0]+ env.gen_2[4]) + \\\n",
    "         ((2**env.gen_3[2])*action[0]+ env.gen_3[3]*env.action[0]+ env.gen_3[4])+  \\\n",
    "         ((2**env.gen_4[2])*action[0]+ env.gen_4[3]*env.action[0]+ env.gen_4[4])\n",
    "    return cost\n",
    "\n",
    "\n",
    "num_episodes =10000\n",
    "\n",
    "\n",
    "learning_rate = 0.1\n",
    "discount_rate = 0.99\n",
    "exploration_rate = 1\n",
    "max_exploration_rate = 1\n",
    "min_exploration_rate = 0.01\n",
    "exploration_decay_rate = 0.001 \n",
    "\n",
    "rewards_all_episodes =[]\n",
    "# Q-learning\n",
    "for episode in range(num_episodes):\n",
    "    state=env.reset()\n",
    "    done= False\n",
    "    rewards_current_episode = 0\n",
    "    \n",
    "    while not done:\n",
    "        \n",
    "        # Exploration-exploitation trade off \n",
    "        exploration_rate_threshole =random.uniform(0,1)\n",
    "        if exploration_rate_threshole > exploration_rate:\n",
    "            action = np.argmax(q_table[state, : ])\n",
    "        else:\n",
    "            action = env.action_space.sample()\n",
    "        \n",
    "        new_state, reward , done , info = env.step(action)\n",
    "        \n",
    "        # Update Q-table for Q(s,a)\n",
    "        q_table[state,action] = q_table[state,action] * (1- learning_rate)+ \\\n",
    "                                learning_rate * (reward + discount_rate *np.max(q_table[new_state, :]))\n",
    "        state =new_state\n",
    "        rewards_current_episode += reward\n",
    "\n",
    "    \n",
    "    \n",
    "    exploration_rate = min_exploration_rate + (max_exploration_rate - min_exploration_rate) * np.exp(-exploration_decay_rate*episode)\n",
    "    rewards_all_episodes.append(rewards_current_episode)\n",
    "    \n",
    "\n",
    "rewards_per_thosand_episodes =np.split(np.array(rewards_all_episodes), num_episodes/1000)\n",
    "count=1000\n",
    "\n",
    "for r in rewards_per_thosand_episodes :\n",
    "    print(count, \" : \", str(sum(r/1000)))\n",
    "    count += 1000\n",
    "    \n"
   ]
  },
  {
   "cell_type": "code",
   "execution_count": null,
   "id": "e2c26738",
   "metadata": {},
   "outputs": [],
   "source": []
  },
  {
   "cell_type": "markdown",
   "id": "f4958294",
   "metadata": {},
   "source": [
    "D[-1]"
   ]
  },
  {
   "cell_type": "code",
   "execution_count": 119,
   "id": "ce8ea03e",
   "metadata": {},
   "outputs": [
    {
     "name": "stdout",
     "output_type": "stream",
     "text": [
      "[[0. 0. 0. 0. 0.]\n",
      " [0. 0. 0. 0. 0.]\n",
      " [0. 0. 0. 0. 0.]\n",
      " [0. 0. 0. 0. 0.]\n",
      " [0. 0. 0. 0. 0.]]\n"
     ]
    }
   ],
   "source": [
    "q_table= np.zeros((5,5))\n",
    "print(q_table)"
   ]
  },
  {
   "cell_type": "code",
   "execution_count": 101,
   "id": "1bcc06f5",
   "metadata": {},
   "outputs": [
    {
     "name": "stdout",
     "output_type": "stream",
     "text": [
      "600\n"
     ]
    },
    {
     "ename": "TypeError",
     "evalue": "'numpy.int64' object is not callable",
     "output_type": "error",
     "traceback": [
      "\u001b[1;31m---------------------------------------------------------------------------\u001b[0m",
      "\u001b[1;31mTypeError\u001b[0m                                 Traceback (most recent call last)",
      "\u001b[1;32m<ipython-input-101-3f7b418ba1ea>\u001b[0m in \u001b[0;36m<module>\u001b[1;34m\u001b[0m\n\u001b[0;32m      1\u001b[0m \u001b[0mprint\u001b[0m\u001b[1;33m(\u001b[0m\u001b[0maction\u001b[0m\u001b[1;33m)\u001b[0m\u001b[1;33m\u001b[0m\u001b[1;33m\u001b[0m\u001b[0m\n\u001b[1;32m----> 2\u001b[1;33m \u001b[0mprint\u001b[0m\u001b[1;33m(\u001b[0m\u001b[0msum\u001b[0m\u001b[1;33m(\u001b[0m\u001b[0maction\u001b[0m\u001b[1;33m)\u001b[0m\u001b[1;33m)\u001b[0m\u001b[1;33m\u001b[0m\u001b[1;33m\u001b[0m\u001b[0m\n\u001b[0m\u001b[0;32m      3\u001b[0m \u001b[0msum\u001b[0m\u001b[1;33m=\u001b[0m \u001b[1;36m0\u001b[0m\u001b[1;33m\u001b[0m\u001b[1;33m\u001b[0m\u001b[0m\n\u001b[0;32m      4\u001b[0m \u001b[1;32mfor\u001b[0m \u001b[0mi\u001b[0m \u001b[1;32min\u001b[0m \u001b[0maction\u001b[0m\u001b[1;33m:\u001b[0m\u001b[1;33m\u001b[0m\u001b[1;33m\u001b[0m\u001b[0m\n\u001b[0;32m      5\u001b[0m     \u001b[0msum\u001b[0m \u001b[1;33m+=\u001b[0m \u001b[0mi\u001b[0m\u001b[1;33m\u001b[0m\u001b[1;33m\u001b[0m\u001b[0m\n",
      "\u001b[1;31mTypeError\u001b[0m: 'numpy.int64' object is not callable"
     ]
    }
   ],
   "source": []
  },
  {
   "cell_type": "code",
   "execution_count": null,
   "id": "d7555092",
   "metadata": {},
   "outputs": [],
   "source": []
  },
  {
   "cell_type": "code",
   "execution_count": null,
   "id": "59f45896",
   "metadata": {},
   "outputs": [],
   "source": []
  }
 ],
 "metadata": {
  "kernelspec": {
   "display_name": "Python 3",
   "language": "python",
   "name": "python3"
  },
  "language_info": {
   "codemirror_mode": {
    "name": "ipython",
    "version": 3
   },
   "file_extension": ".py",
   "mimetype": "text/x-python",
   "name": "python",
   "nbconvert_exporter": "python",
   "pygments_lexer": "ipython3",
   "version": "3.8.8"
  }
 },
 "nbformat": 4,
 "nbformat_minor": 5
}
